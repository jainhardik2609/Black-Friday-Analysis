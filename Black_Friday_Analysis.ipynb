{
 "cells": [
  {
   "cell_type": "code",
   "execution_count": 1,
   "metadata": {},
   "outputs": [],
   "source": [
    "import numpy as np\n",
    "import pandas as pd\n",
    "from sklearn.model_selection import train_test_split\n",
    "from sklearn.preprocessing import StandardScaler\n",
    "from sklearn.preprocessing import LabelEncoder\n",
    "from sklearn.model_selection import train_test_split\n",
    "from sklearn.linear_model import LinearRegression\n",
    "from sklearn.tree import DecisionTreeRegressor\n",
    "from sklearn.ensemble import RandomForestRegressor, AdaBoostRegressor, GradientBoostingRegressor\n",
    "from xgboost.sklearn import XGBRegressor\n",
    "from sklearn.metrics import mean_squared_error"
   ]
  },
  {
   "cell_type": "code",
   "execution_count": 2,
   "metadata": {},
   "outputs": [],
   "source": [
    "train=pd.read_csv(r'C:\\Users\\acer\\Desktop\\Bigdatasales\\train.csv')\n",
    "test=pd.read_csv(r'C:\\Users\\acer\\Desktop\\Bigdatasales\\test.csv')"
   ]
  },
  {
   "cell_type": "code",
   "execution_count": 3,
   "metadata": {},
   "outputs": [
    {
     "data": {
      "text/plain": [
       "(550068, 12)"
      ]
     },
     "execution_count": 3,
     "metadata": {},
     "output_type": "execute_result"
    }
   ],
   "source": [
    "train.shape\n"
   ]
  },
  {
   "cell_type": "code",
   "execution_count": 4,
   "metadata": {},
   "outputs": [
    {
     "data": {
      "text/plain": [
       "(233599, 11)"
      ]
     },
     "execution_count": 4,
     "metadata": {},
     "output_type": "execute_result"
    }
   ],
   "source": [
    "test.shape"
   ]
  },
  {
   "cell_type": "code",
   "execution_count": 5,
   "metadata": {},
   "outputs": [
    {
     "data": {
      "text/html": [
       "<div>\n",
       "<style scoped>\n",
       "    .dataframe tbody tr th:only-of-type {\n",
       "        vertical-align: middle;\n",
       "    }\n",
       "\n",
       "    .dataframe tbody tr th {\n",
       "        vertical-align: top;\n",
       "    }\n",
       "\n",
       "    .dataframe thead th {\n",
       "        text-align: right;\n",
       "    }\n",
       "</style>\n",
       "<table border=\"1\" class=\"dataframe\">\n",
       "  <thead>\n",
       "    <tr style=\"text-align: right;\">\n",
       "      <th></th>\n",
       "      <th>User_ID</th>\n",
       "      <th>Product_ID</th>\n",
       "      <th>Gender</th>\n",
       "      <th>Age</th>\n",
       "      <th>Occupation</th>\n",
       "      <th>City_Category</th>\n",
       "      <th>Stay_In_Current_City_Years</th>\n",
       "      <th>Marital_Status</th>\n",
       "      <th>Product_Category_1</th>\n",
       "      <th>Product_Category_2</th>\n",
       "      <th>Product_Category_3</th>\n",
       "      <th>Purchase</th>\n",
       "    </tr>\n",
       "  </thead>\n",
       "  <tbody>\n",
       "    <tr>\n",
       "      <th>0</th>\n",
       "      <td>1000001</td>\n",
       "      <td>P00069042</td>\n",
       "      <td>F</td>\n",
       "      <td>0-17</td>\n",
       "      <td>10</td>\n",
       "      <td>A</td>\n",
       "      <td>2</td>\n",
       "      <td>0</td>\n",
       "      <td>3</td>\n",
       "      <td>NaN</td>\n",
       "      <td>NaN</td>\n",
       "      <td>8370</td>\n",
       "    </tr>\n",
       "    <tr>\n",
       "      <th>1</th>\n",
       "      <td>1000001</td>\n",
       "      <td>P00248942</td>\n",
       "      <td>F</td>\n",
       "      <td>0-17</td>\n",
       "      <td>10</td>\n",
       "      <td>A</td>\n",
       "      <td>2</td>\n",
       "      <td>0</td>\n",
       "      <td>1</td>\n",
       "      <td>6.0</td>\n",
       "      <td>14.0</td>\n",
       "      <td>15200</td>\n",
       "    </tr>\n",
       "    <tr>\n",
       "      <th>2</th>\n",
       "      <td>1000001</td>\n",
       "      <td>P00087842</td>\n",
       "      <td>F</td>\n",
       "      <td>0-17</td>\n",
       "      <td>10</td>\n",
       "      <td>A</td>\n",
       "      <td>2</td>\n",
       "      <td>0</td>\n",
       "      <td>12</td>\n",
       "      <td>NaN</td>\n",
       "      <td>NaN</td>\n",
       "      <td>1422</td>\n",
       "    </tr>\n",
       "    <tr>\n",
       "      <th>3</th>\n",
       "      <td>1000001</td>\n",
       "      <td>P00085442</td>\n",
       "      <td>F</td>\n",
       "      <td>0-17</td>\n",
       "      <td>10</td>\n",
       "      <td>A</td>\n",
       "      <td>2</td>\n",
       "      <td>0</td>\n",
       "      <td>12</td>\n",
       "      <td>14.0</td>\n",
       "      <td>NaN</td>\n",
       "      <td>1057</td>\n",
       "    </tr>\n",
       "    <tr>\n",
       "      <th>4</th>\n",
       "      <td>1000002</td>\n",
       "      <td>P00285442</td>\n",
       "      <td>M</td>\n",
       "      <td>55+</td>\n",
       "      <td>16</td>\n",
       "      <td>C</td>\n",
       "      <td>4+</td>\n",
       "      <td>0</td>\n",
       "      <td>8</td>\n",
       "      <td>NaN</td>\n",
       "      <td>NaN</td>\n",
       "      <td>7969</td>\n",
       "    </tr>\n",
       "  </tbody>\n",
       "</table>\n",
       "</div>"
      ],
      "text/plain": [
       "   User_ID Product_ID Gender   Age  Occupation City_Category  \\\n",
       "0  1000001  P00069042      F  0-17          10             A   \n",
       "1  1000001  P00248942      F  0-17          10             A   \n",
       "2  1000001  P00087842      F  0-17          10             A   \n",
       "3  1000001  P00085442      F  0-17          10             A   \n",
       "4  1000002  P00285442      M   55+          16             C   \n",
       "\n",
       "  Stay_In_Current_City_Years  Marital_Status  Product_Category_1  \\\n",
       "0                          2               0                   3   \n",
       "1                          2               0                   1   \n",
       "2                          2               0                  12   \n",
       "3                          2               0                  12   \n",
       "4                         4+               0                   8   \n",
       "\n",
       "   Product_Category_2  Product_Category_3  Purchase  \n",
       "0                 NaN                 NaN      8370  \n",
       "1                 6.0                14.0     15200  \n",
       "2                 NaN                 NaN      1422  \n",
       "3                14.0                 NaN      1057  \n",
       "4                 NaN                 NaN      7969  "
      ]
     },
     "execution_count": 5,
     "metadata": {},
     "output_type": "execute_result"
    }
   ],
   "source": [
    "train.head()"
   ]
  },
  {
   "cell_type": "code",
   "execution_count": 6,
   "metadata": {},
   "outputs": [
    {
     "data": {
      "text/html": [
       "<div>\n",
       "<style scoped>\n",
       "    .dataframe tbody tr th:only-of-type {\n",
       "        vertical-align: middle;\n",
       "    }\n",
       "\n",
       "    .dataframe tbody tr th {\n",
       "        vertical-align: top;\n",
       "    }\n",
       "\n",
       "    .dataframe thead th {\n",
       "        text-align: right;\n",
       "    }\n",
       "</style>\n",
       "<table border=\"1\" class=\"dataframe\">\n",
       "  <thead>\n",
       "    <tr style=\"text-align: right;\">\n",
       "      <th></th>\n",
       "      <th>User_ID</th>\n",
       "      <th>Product_ID</th>\n",
       "      <th>Gender</th>\n",
       "      <th>Age</th>\n",
       "      <th>Occupation</th>\n",
       "      <th>City_Category</th>\n",
       "      <th>Stay_In_Current_City_Years</th>\n",
       "      <th>Marital_Status</th>\n",
       "      <th>Product_Category_1</th>\n",
       "      <th>Product_Category_2</th>\n",
       "      <th>Product_Category_3</th>\n",
       "    </tr>\n",
       "  </thead>\n",
       "  <tbody>\n",
       "    <tr>\n",
       "      <th>0</th>\n",
       "      <td>1000004</td>\n",
       "      <td>P00128942</td>\n",
       "      <td>M</td>\n",
       "      <td>46-50</td>\n",
       "      <td>7</td>\n",
       "      <td>B</td>\n",
       "      <td>2</td>\n",
       "      <td>1</td>\n",
       "      <td>1</td>\n",
       "      <td>11.0</td>\n",
       "      <td>NaN</td>\n",
       "    </tr>\n",
       "    <tr>\n",
       "      <th>1</th>\n",
       "      <td>1000009</td>\n",
       "      <td>P00113442</td>\n",
       "      <td>M</td>\n",
       "      <td>26-35</td>\n",
       "      <td>17</td>\n",
       "      <td>C</td>\n",
       "      <td>0</td>\n",
       "      <td>0</td>\n",
       "      <td>3</td>\n",
       "      <td>5.0</td>\n",
       "      <td>NaN</td>\n",
       "    </tr>\n",
       "    <tr>\n",
       "      <th>2</th>\n",
       "      <td>1000010</td>\n",
       "      <td>P00288442</td>\n",
       "      <td>F</td>\n",
       "      <td>36-45</td>\n",
       "      <td>1</td>\n",
       "      <td>B</td>\n",
       "      <td>4+</td>\n",
       "      <td>1</td>\n",
       "      <td>5</td>\n",
       "      <td>14.0</td>\n",
       "      <td>NaN</td>\n",
       "    </tr>\n",
       "    <tr>\n",
       "      <th>3</th>\n",
       "      <td>1000010</td>\n",
       "      <td>P00145342</td>\n",
       "      <td>F</td>\n",
       "      <td>36-45</td>\n",
       "      <td>1</td>\n",
       "      <td>B</td>\n",
       "      <td>4+</td>\n",
       "      <td>1</td>\n",
       "      <td>4</td>\n",
       "      <td>9.0</td>\n",
       "      <td>NaN</td>\n",
       "    </tr>\n",
       "    <tr>\n",
       "      <th>4</th>\n",
       "      <td>1000011</td>\n",
       "      <td>P00053842</td>\n",
       "      <td>F</td>\n",
       "      <td>26-35</td>\n",
       "      <td>1</td>\n",
       "      <td>C</td>\n",
       "      <td>1</td>\n",
       "      <td>0</td>\n",
       "      <td>4</td>\n",
       "      <td>5.0</td>\n",
       "      <td>12.0</td>\n",
       "    </tr>\n",
       "  </tbody>\n",
       "</table>\n",
       "</div>"
      ],
      "text/plain": [
       "   User_ID Product_ID Gender    Age  Occupation City_Category  \\\n",
       "0  1000004  P00128942      M  46-50           7             B   \n",
       "1  1000009  P00113442      M  26-35          17             C   \n",
       "2  1000010  P00288442      F  36-45           1             B   \n",
       "3  1000010  P00145342      F  36-45           1             B   \n",
       "4  1000011  P00053842      F  26-35           1             C   \n",
       "\n",
       "  Stay_In_Current_City_Years  Marital_Status  Product_Category_1  \\\n",
       "0                          2               1                   1   \n",
       "1                          0               0                   3   \n",
       "2                         4+               1                   5   \n",
       "3                         4+               1                   4   \n",
       "4                          1               0                   4   \n",
       "\n",
       "   Product_Category_2  Product_Category_3  \n",
       "0                11.0                 NaN  \n",
       "1                 5.0                 NaN  \n",
       "2                14.0                 NaN  \n",
       "3                 9.0                 NaN  \n",
       "4                 5.0                12.0  "
      ]
     },
     "execution_count": 6,
     "metadata": {},
     "output_type": "execute_result"
    }
   ],
   "source": [
    "test.head()"
   ]
  },
  {
   "cell_type": "code",
   "execution_count": 7,
   "metadata": {},
   "outputs": [
    {
     "data": {
      "text/plain": [
       "5891"
      ]
     },
     "execution_count": 7,
     "metadata": {},
     "output_type": "execute_result"
    }
   ],
   "source": [
    "len(train['User_ID'].unique())"
   ]
  },
  {
   "cell_type": "code",
   "execution_count": 8,
   "metadata": {},
   "outputs": [
    {
     "data": {
      "text/plain": [
       "array(['0-17', '55+', '26-35', '46-50', '51-55', '36-45', '18-25'],\n",
       "      dtype=object)"
      ]
     },
     "execution_count": 8,
     "metadata": {},
     "output_type": "execute_result"
    }
   ],
   "source": [
    "train['Age'].unique()"
   ]
  },
  {
   "cell_type": "code",
   "execution_count": 9,
   "metadata": {},
   "outputs": [
    {
     "data": {
      "text/plain": [
       "array([ 3,  1, 12,  8,  5,  4,  2,  6, 14, 11, 13, 15,  7, 16, 18, 10, 17,\n",
       "        9, 20, 19], dtype=int64)"
      ]
     },
     "execution_count": 9,
     "metadata": {},
     "output_type": "execute_result"
    }
   ],
   "source": [
    "train['Product_Category_1'].unique()"
   ]
  },
  {
   "cell_type": "code",
   "execution_count": 10,
   "metadata": {},
   "outputs": [
    {
     "data": {
      "text/plain": [
       "array([nan,  6., 14.,  2.,  8., 15., 16., 11.,  5.,  3.,  4., 12.,  9.,\n",
       "       10., 17., 13.,  7., 18.])"
      ]
     },
     "execution_count": 10,
     "metadata": {},
     "output_type": "execute_result"
    }
   ],
   "source": [
    "train['Product_Category_2'].unique()"
   ]
  },
  {
   "cell_type": "code",
   "execution_count": 11,
   "metadata": {},
   "outputs": [
    {
     "data": {
      "text/plain": [
       "array([nan, 14., 17.,  5.,  4., 16., 15.,  8.,  9., 13.,  6., 12.,  3.,\n",
       "       18., 11., 10.])"
      ]
     },
     "execution_count": 11,
     "metadata": {},
     "output_type": "execute_result"
    }
   ],
   "source": [
    "train['Product_Category_3'].unique()"
   ]
  },
  {
   "cell_type": "code",
   "execution_count": 12,
   "metadata": {},
   "outputs": [
    {
     "data": {
      "text/plain": [
       "User_ID                            0\n",
       "Product_ID                         0\n",
       "Gender                             0\n",
       "Age                                0\n",
       "Occupation                         0\n",
       "City_Category                      0\n",
       "Stay_In_Current_City_Years         0\n",
       "Marital_Status                     0\n",
       "Product_Category_1                 0\n",
       "Product_Category_2            173638\n",
       "Product_Category_3            383247\n",
       "Purchase                           0\n",
       "dtype: int64"
      ]
     },
     "execution_count": 12,
     "metadata": {},
     "output_type": "execute_result"
    }
   ],
   "source": [
    "train.isnull().sum()"
   ]
  },
  {
   "cell_type": "code",
   "execution_count": 13,
   "metadata": {},
   "outputs": [
    {
     "data": {
      "text/plain": [
       "User_ID                            0\n",
       "Product_ID                         0\n",
       "Gender                             0\n",
       "Age                                0\n",
       "Occupation                         0\n",
       "City_Category                      0\n",
       "Stay_In_Current_City_Years         0\n",
       "Marital_Status                     0\n",
       "Product_Category_1                 0\n",
       "Product_Category_2             72344\n",
       "Product_Category_3            162562\n",
       "dtype: int64"
      ]
     },
     "execution_count": 13,
     "metadata": {},
     "output_type": "execute_result"
    }
   ],
   "source": [
    "test.isnull().sum()"
   ]
  },
  {
   "cell_type": "code",
   "execution_count": 14,
   "metadata": {},
   "outputs": [],
   "source": [
    "train['Product_Category_2'] = train['Product_Category_2'].fillna(0)\n",
    "train['Product_Category_3'] = train['Product_Category_3'].fillna(0)"
   ]
  },
  {
   "cell_type": "code",
   "execution_count": 15,
   "metadata": {},
   "outputs": [],
   "source": [
    "test['Product_Category_2'] = test['Product_Category_2'].fillna(0)\n",
    "test['Product_Category_3'] = test['Product_Category_3'].fillna(0)"
   ]
  },
  {
   "cell_type": "code",
   "execution_count": 16,
   "metadata": {},
   "outputs": [
    {
     "name": "stdout",
     "output_type": "stream",
     "text": [
      "User_ID                       0\n",
      "Product_ID                    0\n",
      "Gender                        0\n",
      "Age                           0\n",
      "Occupation                    0\n",
      "City_Category                 0\n",
      "Stay_In_Current_City_Years    0\n",
      "Marital_Status                0\n",
      "Product_Category_1            0\n",
      "Product_Category_2            0\n",
      "Product_Category_3            0\n",
      "Purchase                      0\n",
      "dtype: int64\n",
      "User_ID                       0\n",
      "Product_ID                    0\n",
      "Gender                        0\n",
      "Age                           0\n",
      "Occupation                    0\n",
      "City_Category                 0\n",
      "Stay_In_Current_City_Years    0\n",
      "Marital_Status                0\n",
      "Product_Category_1            0\n",
      "Product_Category_2            0\n",
      "Product_Category_3            0\n",
      "dtype: int64\n"
     ]
    }
   ],
   "source": [
    "print(train.isnull().sum())\n",
    "print(test.isnull().sum())"
   ]
  },
  {
   "cell_type": "code",
   "execution_count": 17,
   "metadata": {},
   "outputs": [],
   "source": [
    "def map_age(age):\n",
    "    if age == '0-17':\n",
    "        return 0\n",
    "    elif age == '18-25':\n",
    "        return 1\n",
    "    elif age == '26-35':\n",
    "        return 2\n",
    "    elif age == '36-45':\n",
    "        return 3\n",
    "    elif age == '46-50':\n",
    "        return 4\n",
    "    elif age == '51-55':\n",
    "        return 5\n",
    "    else:\n",
    "        return 6\n",
    "train['Age'] = train['Age'].apply(map_age)"
   ]
  },
  {
   "cell_type": "code",
   "execution_count": 18,
   "metadata": {},
   "outputs": [],
   "source": [
    "test['Age'] = test['Age'].apply(map_age)"
   ]
  },
  {
   "cell_type": "code",
   "execution_count": 19,
   "metadata": {},
   "outputs": [],
   "source": [
    "train['Stay_In_Current_City_Years'] = train['Stay_In_Current_City_Years'].map({'0': 0,'1': 1,'2': 2,'3': 3,'4+': 4})\n",
    "test['Stay_In_Current_City_Years'] = test['Stay_In_Current_City_Years'].map({'0': 0,'1': 1,'2': 2,'3': 3,'4+': 4})"
   ]
  },
  {
   "cell_type": "code",
   "execution_count": 20,
   "metadata": {},
   "outputs": [
    {
     "data": {
      "text/html": [
       "<div>\n",
       "<style scoped>\n",
       "    .dataframe tbody tr th:only-of-type {\n",
       "        vertical-align: middle;\n",
       "    }\n",
       "\n",
       "    .dataframe tbody tr th {\n",
       "        vertical-align: top;\n",
       "    }\n",
       "\n",
       "    .dataframe thead th {\n",
       "        text-align: right;\n",
       "    }\n",
       "</style>\n",
       "<table border=\"1\" class=\"dataframe\">\n",
       "  <thead>\n",
       "    <tr style=\"text-align: right;\">\n",
       "      <th></th>\n",
       "      <th>User_ID</th>\n",
       "      <th>Product_ID</th>\n",
       "      <th>Gender</th>\n",
       "      <th>Age</th>\n",
       "      <th>Occupation</th>\n",
       "      <th>City_Category</th>\n",
       "      <th>Stay_In_Current_City_Years</th>\n",
       "      <th>Marital_Status</th>\n",
       "      <th>Product_Category_1</th>\n",
       "      <th>Product_Category_2</th>\n",
       "      <th>Product_Category_3</th>\n",
       "      <th>Purchase</th>\n",
       "    </tr>\n",
       "  </thead>\n",
       "  <tbody>\n",
       "    <tr>\n",
       "      <th>0</th>\n",
       "      <td>1000001</td>\n",
       "      <td>P00069042</td>\n",
       "      <td>F</td>\n",
       "      <td>0</td>\n",
       "      <td>10</td>\n",
       "      <td>A</td>\n",
       "      <td>2</td>\n",
       "      <td>0</td>\n",
       "      <td>3</td>\n",
       "      <td>0.0</td>\n",
       "      <td>0.0</td>\n",
       "      <td>8370</td>\n",
       "    </tr>\n",
       "    <tr>\n",
       "      <th>1</th>\n",
       "      <td>1000001</td>\n",
       "      <td>P00248942</td>\n",
       "      <td>F</td>\n",
       "      <td>0</td>\n",
       "      <td>10</td>\n",
       "      <td>A</td>\n",
       "      <td>2</td>\n",
       "      <td>0</td>\n",
       "      <td>1</td>\n",
       "      <td>6.0</td>\n",
       "      <td>14.0</td>\n",
       "      <td>15200</td>\n",
       "    </tr>\n",
       "    <tr>\n",
       "      <th>2</th>\n",
       "      <td>1000001</td>\n",
       "      <td>P00087842</td>\n",
       "      <td>F</td>\n",
       "      <td>0</td>\n",
       "      <td>10</td>\n",
       "      <td>A</td>\n",
       "      <td>2</td>\n",
       "      <td>0</td>\n",
       "      <td>12</td>\n",
       "      <td>0.0</td>\n",
       "      <td>0.0</td>\n",
       "      <td>1422</td>\n",
       "    </tr>\n",
       "    <tr>\n",
       "      <th>3</th>\n",
       "      <td>1000001</td>\n",
       "      <td>P00085442</td>\n",
       "      <td>F</td>\n",
       "      <td>0</td>\n",
       "      <td>10</td>\n",
       "      <td>A</td>\n",
       "      <td>2</td>\n",
       "      <td>0</td>\n",
       "      <td>12</td>\n",
       "      <td>14.0</td>\n",
       "      <td>0.0</td>\n",
       "      <td>1057</td>\n",
       "    </tr>\n",
       "    <tr>\n",
       "      <th>4</th>\n",
       "      <td>1000002</td>\n",
       "      <td>P00285442</td>\n",
       "      <td>M</td>\n",
       "      <td>6</td>\n",
       "      <td>16</td>\n",
       "      <td>C</td>\n",
       "      <td>4</td>\n",
       "      <td>0</td>\n",
       "      <td>8</td>\n",
       "      <td>0.0</td>\n",
       "      <td>0.0</td>\n",
       "      <td>7969</td>\n",
       "    </tr>\n",
       "  </tbody>\n",
       "</table>\n",
       "</div>"
      ],
      "text/plain": [
       "   User_ID Product_ID Gender  Age  Occupation City_Category  \\\n",
       "0  1000001  P00069042      F    0          10             A   \n",
       "1  1000001  P00248942      F    0          10             A   \n",
       "2  1000001  P00087842      F    0          10             A   \n",
       "3  1000001  P00085442      F    0          10             A   \n",
       "4  1000002  P00285442      M    6          16             C   \n",
       "\n",
       "   Stay_In_Current_City_Years  Marital_Status  Product_Category_1  \\\n",
       "0                           2               0                   3   \n",
       "1                           2               0                   1   \n",
       "2                           2               0                  12   \n",
       "3                           2               0                  12   \n",
       "4                           4               0                   8   \n",
       "\n",
       "   Product_Category_2  Product_Category_3  Purchase  \n",
       "0                 0.0                 0.0      8370  \n",
       "1                 6.0                14.0     15200  \n",
       "2                 0.0                 0.0      1422  \n",
       "3                14.0                 0.0      1057  \n",
       "4                 0.0                 0.0      7969  "
      ]
     },
     "execution_count": 20,
     "metadata": {},
     "output_type": "execute_result"
    }
   ],
   "source": [
    "train.head()"
   ]
  },
  {
   "cell_type": "code",
   "execution_count": 21,
   "metadata": {},
   "outputs": [],
   "source": [
    "cat_col = ['Gender', 'City_Category']\n",
    "num_col = ['Age', 'Occupation', 'Stay_In_Current_City_Years', 'Product_Category_1', \n",
    "           'Product_Category_2', 'Product_Category_3']"
   ]
  },
  {
   "cell_type": "code",
   "execution_count": 22,
   "metadata": {},
   "outputs": [],
   "source": [
    "encoder = LabelEncoder()\n",
    "\n",
    "for col in cat_col:\n",
    "    train[col] = encoder.fit_transform(train[col])\n",
    "    test[col] = encoder.transform(test[col])"
   ]
  },
  {
   "cell_type": "code",
   "execution_count": 23,
   "metadata": {},
   "outputs": [
    {
     "data": {
      "text/html": [
       "<div>\n",
       "<style scoped>\n",
       "    .dataframe tbody tr th:only-of-type {\n",
       "        vertical-align: middle;\n",
       "    }\n",
       "\n",
       "    .dataframe tbody tr th {\n",
       "        vertical-align: top;\n",
       "    }\n",
       "\n",
       "    .dataframe thead th {\n",
       "        text-align: right;\n",
       "    }\n",
       "</style>\n",
       "<table border=\"1\" class=\"dataframe\">\n",
       "  <thead>\n",
       "    <tr style=\"text-align: right;\">\n",
       "      <th></th>\n",
       "      <th>User_ID</th>\n",
       "      <th>Product_ID</th>\n",
       "      <th>Gender</th>\n",
       "      <th>Age</th>\n",
       "      <th>Occupation</th>\n",
       "      <th>City_Category</th>\n",
       "      <th>Stay_In_Current_City_Years</th>\n",
       "      <th>Marital_Status</th>\n",
       "      <th>Product_Category_1</th>\n",
       "      <th>Product_Category_2</th>\n",
       "      <th>Product_Category_3</th>\n",
       "      <th>Purchase</th>\n",
       "    </tr>\n",
       "  </thead>\n",
       "  <tbody>\n",
       "    <tr>\n",
       "      <th>0</th>\n",
       "      <td>1000001</td>\n",
       "      <td>P00069042</td>\n",
       "      <td>0</td>\n",
       "      <td>0</td>\n",
       "      <td>10</td>\n",
       "      <td>0</td>\n",
       "      <td>2</td>\n",
       "      <td>0</td>\n",
       "      <td>3</td>\n",
       "      <td>0.0</td>\n",
       "      <td>0.0</td>\n",
       "      <td>8370</td>\n",
       "    </tr>\n",
       "    <tr>\n",
       "      <th>1</th>\n",
       "      <td>1000001</td>\n",
       "      <td>P00248942</td>\n",
       "      <td>0</td>\n",
       "      <td>0</td>\n",
       "      <td>10</td>\n",
       "      <td>0</td>\n",
       "      <td>2</td>\n",
       "      <td>0</td>\n",
       "      <td>1</td>\n",
       "      <td>6.0</td>\n",
       "      <td>14.0</td>\n",
       "      <td>15200</td>\n",
       "    </tr>\n",
       "    <tr>\n",
       "      <th>2</th>\n",
       "      <td>1000001</td>\n",
       "      <td>P00087842</td>\n",
       "      <td>0</td>\n",
       "      <td>0</td>\n",
       "      <td>10</td>\n",
       "      <td>0</td>\n",
       "      <td>2</td>\n",
       "      <td>0</td>\n",
       "      <td>12</td>\n",
       "      <td>0.0</td>\n",
       "      <td>0.0</td>\n",
       "      <td>1422</td>\n",
       "    </tr>\n",
       "    <tr>\n",
       "      <th>3</th>\n",
       "      <td>1000001</td>\n",
       "      <td>P00085442</td>\n",
       "      <td>0</td>\n",
       "      <td>0</td>\n",
       "      <td>10</td>\n",
       "      <td>0</td>\n",
       "      <td>2</td>\n",
       "      <td>0</td>\n",
       "      <td>12</td>\n",
       "      <td>14.0</td>\n",
       "      <td>0.0</td>\n",
       "      <td>1057</td>\n",
       "    </tr>\n",
       "    <tr>\n",
       "      <th>4</th>\n",
       "      <td>1000002</td>\n",
       "      <td>P00285442</td>\n",
       "      <td>1</td>\n",
       "      <td>6</td>\n",
       "      <td>16</td>\n",
       "      <td>2</td>\n",
       "      <td>4</td>\n",
       "      <td>0</td>\n",
       "      <td>8</td>\n",
       "      <td>0.0</td>\n",
       "      <td>0.0</td>\n",
       "      <td>7969</td>\n",
       "    </tr>\n",
       "  </tbody>\n",
       "</table>\n",
       "</div>"
      ],
      "text/plain": [
       "   User_ID Product_ID  Gender  Age  Occupation  City_Category  \\\n",
       "0  1000001  P00069042       0    0          10              0   \n",
       "1  1000001  P00248942       0    0          10              0   \n",
       "2  1000001  P00087842       0    0          10              0   \n",
       "3  1000001  P00085442       0    0          10              0   \n",
       "4  1000002  P00285442       1    6          16              2   \n",
       "\n",
       "   Stay_In_Current_City_Years  Marital_Status  Product_Category_1  \\\n",
       "0                           2               0                   3   \n",
       "1                           2               0                   1   \n",
       "2                           2               0                  12   \n",
       "3                           2               0                  12   \n",
       "4                           4               0                   8   \n",
       "\n",
       "   Product_Category_2  Product_Category_3  Purchase  \n",
       "0                 0.0                 0.0      8370  \n",
       "1                 6.0                14.0     15200  \n",
       "2                 0.0                 0.0      1422  \n",
       "3                14.0                 0.0      1057  \n",
       "4                 0.0                 0.0      7969  "
      ]
     },
     "execution_count": 23,
     "metadata": {},
     "output_type": "execute_result"
    }
   ],
   "source": [
    "train.head()"
   ]
  },
  {
   "cell_type": "code",
   "execution_count": 24,
   "metadata": {},
   "outputs": [
    {
     "name": "stderr",
     "output_type": "stream",
     "text": [
      "C:\\Users\\acer\\Anaconda3\\lib\\site-packages\\sklearn\\utils\\validation.py:595: DataConversionWarning: Data with input dtype int64 was converted to float64 by StandardScaler.\n",
      "  warnings.warn(msg, DataConversionWarning)\n",
      "C:\\Users\\acer\\Anaconda3\\lib\\site-packages\\sklearn\\utils\\validation.py:595: DataConversionWarning: Data with input dtype int64 was converted to float64 by StandardScaler.\n",
      "  warnings.warn(msg, DataConversionWarning)\n",
      "C:\\Users\\acer\\Anaconda3\\lib\\site-packages\\sklearn\\utils\\validation.py:595: DataConversionWarning: Data with input dtype int64 was converted to float64 by StandardScaler.\n",
      "  warnings.warn(msg, DataConversionWarning)\n",
      "C:\\Users\\acer\\Anaconda3\\lib\\site-packages\\sklearn\\utils\\validation.py:595: DataConversionWarning: Data with input dtype int64 was converted to float64 by StandardScaler.\n",
      "  warnings.warn(msg, DataConversionWarning)\n",
      "C:\\Users\\acer\\Anaconda3\\lib\\site-packages\\sklearn\\utils\\validation.py:595: DataConversionWarning: Data with input dtype int64 was converted to float64 by StandardScaler.\n",
      "  warnings.warn(msg, DataConversionWarning)\n",
      "C:\\Users\\acer\\Anaconda3\\lib\\site-packages\\sklearn\\utils\\validation.py:595: DataConversionWarning: Data with input dtype int64 was converted to float64 by StandardScaler.\n",
      "  warnings.warn(msg, DataConversionWarning)\n",
      "C:\\Users\\acer\\Anaconda3\\lib\\site-packages\\sklearn\\utils\\validation.py:595: DataConversionWarning: Data with input dtype int64 was converted to float64 by StandardScaler.\n",
      "  warnings.warn(msg, DataConversionWarning)\n",
      "C:\\Users\\acer\\Anaconda3\\lib\\site-packages\\sklearn\\utils\\validation.py:595: DataConversionWarning: Data with input dtype int64 was converted to float64 by StandardScaler.\n",
      "  warnings.warn(msg, DataConversionWarning)\n",
      "C:\\Users\\acer\\Anaconda3\\lib\\site-packages\\sklearn\\utils\\validation.py:595: DataConversionWarning: Data with input dtype int64 was converted to float64 by StandardScaler.\n",
      "  warnings.warn(msg, DataConversionWarning)\n",
      "C:\\Users\\acer\\Anaconda3\\lib\\site-packages\\sklearn\\utils\\validation.py:595: DataConversionWarning: Data with input dtype int64 was converted to float64 by StandardScaler.\n",
      "  warnings.warn(msg, DataConversionWarning)\n",
      "C:\\Users\\acer\\Anaconda3\\lib\\site-packages\\sklearn\\utils\\validation.py:595: DataConversionWarning: Data with input dtype int64 was converted to float64 by StandardScaler.\n",
      "  warnings.warn(msg, DataConversionWarning)\n",
      "C:\\Users\\acer\\Anaconda3\\lib\\site-packages\\sklearn\\utils\\validation.py:595: DataConversionWarning: Data with input dtype int64 was converted to float64 by StandardScaler.\n",
      "  warnings.warn(msg, DataConversionWarning)\n"
     ]
    }
   ],
   "source": [
    "scaler = StandardScaler()\n",
    "\n",
    "for col in num_col:\n",
    "    train[col] = scaler.fit_transform(train[col].values.reshape(-1, 1))\n",
    "    test[col] = scaler.transform(test[col].values.reshape(-1, 1))"
   ]
  },
  {
   "cell_type": "code",
   "execution_count": 25,
   "metadata": {},
   "outputs": [
    {
     "data": {
      "text/html": [
       "<div>\n",
       "<style scoped>\n",
       "    .dataframe tbody tr th:only-of-type {\n",
       "        vertical-align: middle;\n",
       "    }\n",
       "\n",
       "    .dataframe tbody tr th {\n",
       "        vertical-align: top;\n",
       "    }\n",
       "\n",
       "    .dataframe thead th {\n",
       "        text-align: right;\n",
       "    }\n",
       "</style>\n",
       "<table border=\"1\" class=\"dataframe\">\n",
       "  <thead>\n",
       "    <tr style=\"text-align: right;\">\n",
       "      <th></th>\n",
       "      <th>User_ID</th>\n",
       "      <th>Product_ID</th>\n",
       "      <th>Gender</th>\n",
       "      <th>Age</th>\n",
       "      <th>Occupation</th>\n",
       "      <th>City_Category</th>\n",
       "      <th>Stay_In_Current_City_Years</th>\n",
       "      <th>Marital_Status</th>\n",
       "      <th>Product_Category_1</th>\n",
       "      <th>Product_Category_2</th>\n",
       "      <th>Product_Category_3</th>\n",
       "      <th>Purchase</th>\n",
       "    </tr>\n",
       "  </thead>\n",
       "  <tbody>\n",
       "    <tr>\n",
       "      <th>0</th>\n",
       "      <td>1000001</td>\n",
       "      <td>P00069042</td>\n",
       "      <td>0</td>\n",
       "      <td>-1.844248</td>\n",
       "      <td>0.294864</td>\n",
       "      <td>0</td>\n",
       "      <td>0.109801</td>\n",
       "      <td>0</td>\n",
       "      <td>-0.610809</td>\n",
       "      <td>-1.083654</td>\n",
       "      <td>-0.614641</td>\n",
       "      <td>8370</td>\n",
       "    </tr>\n",
       "    <tr>\n",
       "      <th>1</th>\n",
       "      <td>1000001</td>\n",
       "      <td>P00248942</td>\n",
       "      <td>0</td>\n",
       "      <td>-1.844248</td>\n",
       "      <td>0.294864</td>\n",
       "      <td>0</td>\n",
       "      <td>0.109801</td>\n",
       "      <td>0</td>\n",
       "      <td>-1.118912</td>\n",
       "      <td>-0.118323</td>\n",
       "      <td>1.625106</td>\n",
       "      <td>15200</td>\n",
       "    </tr>\n",
       "    <tr>\n",
       "      <th>2</th>\n",
       "      <td>1000001</td>\n",
       "      <td>P00087842</td>\n",
       "      <td>0</td>\n",
       "      <td>-1.844248</td>\n",
       "      <td>0.294864</td>\n",
       "      <td>0</td>\n",
       "      <td>0.109801</td>\n",
       "      <td>0</td>\n",
       "      <td>1.675656</td>\n",
       "      <td>-1.083654</td>\n",
       "      <td>-0.614641</td>\n",
       "      <td>1422</td>\n",
       "    </tr>\n",
       "    <tr>\n",
       "      <th>3</th>\n",
       "      <td>1000001</td>\n",
       "      <td>P00085442</td>\n",
       "      <td>0</td>\n",
       "      <td>-1.844248</td>\n",
       "      <td>0.294864</td>\n",
       "      <td>0</td>\n",
       "      <td>0.109801</td>\n",
       "      <td>0</td>\n",
       "      <td>1.675656</td>\n",
       "      <td>1.168785</td>\n",
       "      <td>-0.614641</td>\n",
       "      <td>1057</td>\n",
       "    </tr>\n",
       "    <tr>\n",
       "      <th>4</th>\n",
       "      <td>1000002</td>\n",
       "      <td>P00285442</td>\n",
       "      <td>1</td>\n",
       "      <td>2.588277</td>\n",
       "      <td>1.214734</td>\n",
       "      <td>2</td>\n",
       "      <td>1.660861</td>\n",
       "      <td>0</td>\n",
       "      <td>0.659449</td>\n",
       "      <td>-1.083654</td>\n",
       "      <td>-0.614641</td>\n",
       "      <td>7969</td>\n",
       "    </tr>\n",
       "  </tbody>\n",
       "</table>\n",
       "</div>"
      ],
      "text/plain": [
       "   User_ID Product_ID  Gender       Age  Occupation  City_Category  \\\n",
       "0  1000001  P00069042       0 -1.844248    0.294864              0   \n",
       "1  1000001  P00248942       0 -1.844248    0.294864              0   \n",
       "2  1000001  P00087842       0 -1.844248    0.294864              0   \n",
       "3  1000001  P00085442       0 -1.844248    0.294864              0   \n",
       "4  1000002  P00285442       1  2.588277    1.214734              2   \n",
       "\n",
       "   Stay_In_Current_City_Years  Marital_Status  Product_Category_1  \\\n",
       "0                    0.109801               0           -0.610809   \n",
       "1                    0.109801               0           -1.118912   \n",
       "2                    0.109801               0            1.675656   \n",
       "3                    0.109801               0            1.675656   \n",
       "4                    1.660861               0            0.659449   \n",
       "\n",
       "   Product_Category_2  Product_Category_3  Purchase  \n",
       "0           -1.083654           -0.614641      8370  \n",
       "1           -0.118323            1.625106     15200  \n",
       "2           -1.083654           -0.614641      1422  \n",
       "3            1.168785           -0.614641      1057  \n",
       "4           -1.083654           -0.614641      7969  "
      ]
     },
     "execution_count": 25,
     "metadata": {},
     "output_type": "execute_result"
    }
   ],
   "source": [
    "train.head()"
   ]
  },
  {
   "cell_type": "code",
   "execution_count": 26,
   "metadata": {},
   "outputs": [],
   "source": [
    "train['User_ID'] = train['User_ID'] - 1000000\n",
    "test['User_ID'] = test['User_ID'] - 1000000\n",
    "\n",
    "enc = LabelEncoder()\n",
    "train['User_ID'] = enc.fit_transform(train['User_ID'])\n",
    "test['User_ID'] = enc.transform(test['User_ID'])"
   ]
  },
  {
   "cell_type": "code",
   "execution_count": 27,
   "metadata": {},
   "outputs": [
    {
     "name": "stderr",
     "output_type": "stream",
     "text": [
      "C:\\Users\\acer\\Anaconda3\\lib\\site-packages\\sklearn\\utils\\validation.py:595: DataConversionWarning: Data with input dtype object was converted to float64 by StandardScaler.\n",
      "  warnings.warn(msg, DataConversionWarning)\n",
      "C:\\Users\\acer\\Anaconda3\\lib\\site-packages\\sklearn\\utils\\validation.py:595: DataConversionWarning: Data with input dtype object was converted to float64 by StandardScaler.\n",
      "  warnings.warn(msg, DataConversionWarning)\n",
      "C:\\Users\\acer\\Anaconda3\\lib\\site-packages\\sklearn\\utils\\validation.py:595: DataConversionWarning: Data with input dtype object was converted to float64 by StandardScaler.\n",
      "  warnings.warn(msg, DataConversionWarning)\n"
     ]
    }
   ],
   "source": [
    "train['Product_ID'] = train['Product_ID'].str.replace('P00', '')\n",
    "test['Product_ID'] = test['Product_ID'].str.replace('P00', '')\n",
    "\n",
    "scaler = StandardScaler()\n",
    "train['Product_ID'] = scaler.fit_transform(train['Product_ID'].values.reshape(-1, 1))\n",
    "test['Product_ID'] = scaler.transform(test['Product_ID'].values.reshape(-1, 1))"
   ]
  },
  {
   "cell_type": "code",
   "execution_count": 28,
   "metadata": {},
   "outputs": [
    {
     "data": {
      "text/html": [
       "<div>\n",
       "<style scoped>\n",
       "    .dataframe tbody tr th:only-of-type {\n",
       "        vertical-align: middle;\n",
       "    }\n",
       "\n",
       "    .dataframe tbody tr th {\n",
       "        vertical-align: top;\n",
       "    }\n",
       "\n",
       "    .dataframe thead th {\n",
       "        text-align: right;\n",
       "    }\n",
       "</style>\n",
       "<table border=\"1\" class=\"dataframe\">\n",
       "  <thead>\n",
       "    <tr style=\"text-align: right;\">\n",
       "      <th></th>\n",
       "      <th>User_ID</th>\n",
       "      <th>Product_ID</th>\n",
       "      <th>Gender</th>\n",
       "      <th>Age</th>\n",
       "      <th>Occupation</th>\n",
       "      <th>City_Category</th>\n",
       "      <th>Stay_In_Current_City_Years</th>\n",
       "      <th>Marital_Status</th>\n",
       "      <th>Product_Category_1</th>\n",
       "      <th>Product_Category_2</th>\n",
       "      <th>Product_Category_3</th>\n",
       "      <th>Purchase</th>\n",
       "    </tr>\n",
       "  </thead>\n",
       "  <tbody>\n",
       "    <tr>\n",
       "      <th>0</th>\n",
       "      <td>0</td>\n",
       "      <td>-1.028774</td>\n",
       "      <td>0</td>\n",
       "      <td>-1.844248</td>\n",
       "      <td>0.294864</td>\n",
       "      <td>0</td>\n",
       "      <td>0.109801</td>\n",
       "      <td>0</td>\n",
       "      <td>-0.610809</td>\n",
       "      <td>-1.083654</td>\n",
       "      <td>-0.614641</td>\n",
       "      <td>8370</td>\n",
       "    </tr>\n",
       "    <tr>\n",
       "      <th>1</th>\n",
       "      <td>0</td>\n",
       "      <td>0.722139</td>\n",
       "      <td>0</td>\n",
       "      <td>-1.844248</td>\n",
       "      <td>0.294864</td>\n",
       "      <td>0</td>\n",
       "      <td>0.109801</td>\n",
       "      <td>0</td>\n",
       "      <td>-1.118912</td>\n",
       "      <td>-0.118323</td>\n",
       "      <td>1.625106</td>\n",
       "      <td>15200</td>\n",
       "    </tr>\n",
       "    <tr>\n",
       "      <th>2</th>\n",
       "      <td>0</td>\n",
       "      <td>-0.845799</td>\n",
       "      <td>0</td>\n",
       "      <td>-1.844248</td>\n",
       "      <td>0.294864</td>\n",
       "      <td>0</td>\n",
       "      <td>0.109801</td>\n",
       "      <td>0</td>\n",
       "      <td>1.675656</td>\n",
       "      <td>-1.083654</td>\n",
       "      <td>-0.614641</td>\n",
       "      <td>1422</td>\n",
       "    </tr>\n",
       "    <tr>\n",
       "      <th>3</th>\n",
       "      <td>0</td>\n",
       "      <td>-0.869157</td>\n",
       "      <td>0</td>\n",
       "      <td>-1.844248</td>\n",
       "      <td>0.294864</td>\n",
       "      <td>0</td>\n",
       "      <td>0.109801</td>\n",
       "      <td>0</td>\n",
       "      <td>1.675656</td>\n",
       "      <td>1.168785</td>\n",
       "      <td>-0.614641</td>\n",
       "      <td>1057</td>\n",
       "    </tr>\n",
       "    <tr>\n",
       "      <th>4</th>\n",
       "      <td>1</td>\n",
       "      <td>1.077382</td>\n",
       "      <td>1</td>\n",
       "      <td>2.588277</td>\n",
       "      <td>1.214734</td>\n",
       "      <td>2</td>\n",
       "      <td>1.660861</td>\n",
       "      <td>0</td>\n",
       "      <td>0.659449</td>\n",
       "      <td>-1.083654</td>\n",
       "      <td>-0.614641</td>\n",
       "      <td>7969</td>\n",
       "    </tr>\n",
       "  </tbody>\n",
       "</table>\n",
       "</div>"
      ],
      "text/plain": [
       "   User_ID  Product_ID  Gender       Age  Occupation  City_Category  \\\n",
       "0        0   -1.028774       0 -1.844248    0.294864              0   \n",
       "1        0    0.722139       0 -1.844248    0.294864              0   \n",
       "2        0   -0.845799       0 -1.844248    0.294864              0   \n",
       "3        0   -0.869157       0 -1.844248    0.294864              0   \n",
       "4        1    1.077382       1  2.588277    1.214734              2   \n",
       "\n",
       "   Stay_In_Current_City_Years  Marital_Status  Product_Category_1  \\\n",
       "0                    0.109801               0           -0.610809   \n",
       "1                    0.109801               0           -1.118912   \n",
       "2                    0.109801               0            1.675656   \n",
       "3                    0.109801               0            1.675656   \n",
       "4                    1.660861               0            0.659449   \n",
       "\n",
       "   Product_Category_2  Product_Category_3  Purchase  \n",
       "0           -1.083654           -0.614641      8370  \n",
       "1           -0.118323            1.625106     15200  \n",
       "2           -1.083654           -0.614641      1422  \n",
       "3            1.168785           -0.614641      1057  \n",
       "4           -1.083654           -0.614641      7969  "
      ]
     },
     "execution_count": 28,
     "metadata": {},
     "output_type": "execute_result"
    }
   ],
   "source": [
    "train.head()"
   ]
  },
  {
   "cell_type": "code",
   "execution_count": 29,
   "metadata": {},
   "outputs": [],
   "source": [
    "import matplotlib.pyplot as plt\n",
    "import seaborn as sns\n",
    "plt.style.use('fivethirtyeight')\n",
    "%matplotlib inline\n",
    "\n",
    "import warnings\n",
    "warnings.filterwarnings('ignore')"
   ]
  },
  {
   "cell_type": "code",
   "execution_count": 30,
   "metadata": {},
   "outputs": [
    {
     "data": {
      "text/plain": [
       "<matplotlib.axes._subplots.AxesSubplot at 0x26d5e2a6c88>"
      ]
     },
     "execution_count": 30,
     "metadata": {},
     "output_type": "execute_result"
    },
    {
     "data": {
      "image/png": "[encoded data removed]",
      "text/plain": [
       "<Figure size 720x360 with 1 Axes>"
      ]
     },
     "metadata": {
      "needs_background": "light"
     },
     "output_type": "display_data"
    }
   ],
   "source": [
    "plt.rcParams['figure.figsize'] = [10, 5]\n",
    "plt.rcParams.update({'font.size': 22})\n",
    "sns.boxplot(\"Product_Category_1\", hue=\"Purchase\", data=train)"
   ]
  },
  {
   "cell_type": "code",
   "execution_count": 31,
   "metadata": {},
   "outputs": [
    {
     "data": {
      "text/plain": [
       "<matplotlib.axes._subplots.AxesSubplot at 0x26d5e358978>"
      ]
     },
     "execution_count": 31,
     "metadata": {},
     "output_type": "execute_result"
    },
    {
     "data": {
      "image/png": "[encoded data removed]",
      "text/plain": [
       "<Figure size 720x360 with 1 Axes>"
      ]
     },
     "metadata": {
      "needs_background": "light"
     },
     "output_type": "display_data"
    }
   ],
   "source": [
    "plt.rcParams['figure.figsize'] = [10, 5]\n",
    "plt.rcParams.update({'font.size': 22})\n",
    "sns.boxplot(\"Product_Category_2\", hue=\"Purchase\", data=train)"
   ]
  },
  {
   "cell_type": "code",
   "execution_count": 32,
   "metadata": {},
   "outputs": [
    {
     "data": {
      "text/plain": [
       "<matplotlib.axes._subplots.AxesSubplot at 0x26d5e3b3a90>"
      ]
     },
     "execution_count": 32,
     "metadata": {},
     "output_type": "execute_result"
    },
    {
     "data": {
      "image/png": "[encoded data removed]",
      "text/plain": [
       "<Figure size 720x360 with 1 Axes>"
      ]
     },
     "metadata": {
      "needs_background": "light"
     },
     "output_type": "display_data"
    }
   ],
   "source": [
    "plt.rcParams['figure.figsize'] = [10, 5]\n",
    "plt.rcParams.update({'font.size': 22})\n",
    "sns.boxplot(\"Product_Category_3\", hue=\"Purchase\", data=train)"
   ]
  },
  {
   "cell_type": "code",
   "execution_count": null,
   "metadata": {},
   "outputs": [],
   "source": []
  },
  {
   "cell_type": "code",
   "execution_count": 33,
   "metadata": {},
   "outputs": [
    {
     "data": {
      "image/png": "[encoded data removed]",
      "text/plain": [
       "<Figure size 720x360 with 2 Axes>"
      ]
     },
     "metadata": {
      "needs_background": "light"
     },
     "output_type": "display_data"
    }
   ],
   "source": [
    "correlation_matrix = train.corr() \n",
    "sns.heatmap(correlation_matrix, annot=True) \n",
    "plt.show()"
   ]
  },
  {
   "cell_type": "code",
   "execution_count": 34,
   "metadata": {},
   "outputs": [],
   "source": [
    "X = train.drop(['Purchase'], axis=1)\n",
    "y = train[['Purchase']]\n",
    "X_test = test\n",
    "X_train, X_val, y_train, y_val = train_test_split(X, y, test_size=0.20, random_state=42, shuffle=True)"
   ]
  },
  {
   "cell_type": "code",
   "execution_count": 35,
   "metadata": {},
   "outputs": [
    {
     "name": "stdout",
     "output_type": "stream",
     "text": [
      "[13:17:58] WARNING: src/objective/regression_obj.cu:152: reg:linear is now deprecated in favor of reg:squarederror.\n",
      "XGBRegressor(base_score=0.5, booster='gbtree', colsample_bylevel=1,\n",
      "       colsample_bynode=1, colsample_bytree=1, gamma=0,\n",
      "       importance_type='gain', learning_rate=1.0, max_delta_step=0,\n",
      "       max_depth=6, min_child_weight=40, missing=None, n_estimators=100,\n",
      "       n_jobs=1, nthread=None, objective='reg:linear', random_state=0,\n",
      "       reg_alpha=0, reg_lambda=1, scale_pos_weight=1, seed=0, silent=None,\n",
      "       subsample=1, verbosity=1) 2591.851957367946\n"
     ]
    }
   ],
   "source": [
    "xgb_reg = XGBRegressor(learning_rate=1.0, max_depth=6, min_child_weight=40, seed=0)\n",
    "\n",
    "xgb_reg.fit(X_train, y_train)\n",
    "y_pred = xgb_reg.predict(X_val)\n",
    "rmse = np.sqrt(mean_squared_error(y_pred, y_val))\n",
    "\n",
    "print (xgb_reg, rmse)"
   ]
  },
  {
   "cell_type": "code",
   "execution_count": 48,
   "metadata": {},
   "outputs": [],
   "source": [
    "test1 = pd.read_csv(r'C:\\Users\\acer\\Desktop\\Bigdatasales\\test.csv')\n",
    "submission = pd.read_csv(r'C:\\Users\\acer\\Desktop\\Bigdatasales\\sample_submission_LMg97w5.csv')"
   ]
  },
  {
   "cell_type": "code",
   "execution_count": 49,
   "metadata": {},
   "outputs": [],
   "source": [
    "submission = submission.drop([\"Comb\", \"Purchase\"], axis=1)"
   ]
  },
  {
   "cell_type": "code",
   "execution_count": 50,
   "metadata": {},
   "outputs": [],
   "source": [
    "submission['Comb'] = test1['User_ID'].astype(str) + test1['Product_ID'].astype(str)"
   ]
  },
  {
   "cell_type": "code",
   "execution_count": 52,
   "metadata": {},
   "outputs": [
    {
     "name": "stdout",
     "output_type": "stream",
     "text": [
      "[13:53:43] WARNING: src/objective/regression_obj.cu:152: reg:linear is now deprecated in favor of reg:squarederror.\n"
     ]
    }
   ],
   "source": [
    "xgb_reg.fit(X, y)\n",
    "predict = xgb_reg.predict(X_test)\n",
    "\n",
    "submission['Purchase'] = predict\n",
    "submission.to_csv(r'C:\\Users\\acer\\Desktop\\Bigdatasales\\sample_submission_xgb.csv', index=False)"
   ]
  },
  {
   "cell_type": "code",
   "execution_count": 54,
   "metadata": {},
   "outputs": [],
   "source": [
    "from tensorflow.python import keras\n",
    "from tensorflow.python.keras.models import Sequential\n",
    "from tensorflow.keras.callbacks import ModelCheckpoint\n",
    "from tensorflow.python.keras.layers import Dense, Flatten, Activation\n",
    "from sklearn.metrics import mean_squared_error\n",
    "from sklearn.metrics import mean_absolute_error\n",
    "from sklearn.model_selection import train_test_split"
   ]
  },
  {
   "cell_type": "code",
   "execution_count": 55,
   "metadata": {},
   "outputs": [],
   "source": [
    "NN_model = Sequential() #"
   ]
  },
  {
   "cell_type": "code",
   "execution_count": 56,
   "metadata": {},
   "outputs": [
    {
     "name": "stdout",
     "output_type": "stream",
     "text": [
      "WARNING:tensorflow:From C:\\Users\\acer\\Anaconda3\\lib\\site-packages\\tensorflow\\python\\ops\\resource_variable_ops.py:435: colocate_with (from tensorflow.python.framework.ops) is deprecated and will be removed in a future version.\n",
      "Instructions for updating:\n",
      "Colocations handled automatically by placer.\n",
      "_________________________________________________________________\n",
      "Layer (type)                 Output Shape              Param #   \n",
      "=================================================================\n",
      "dense (Dense)                (None, 128)               1536      \n",
      "_________________________________________________________________\n",
      "dense_1 (Dense)              (None, 256)               33024     \n",
      "_________________________________________________________________\n",
      "dense_2 (Dense)              (None, 256)               65792     \n",
      "_________________________________________________________________\n",
      "dense_3 (Dense)              (None, 256)               65792     \n",
      "_________________________________________________________________\n",
      "dense_4 (Dense)              (None, 1)                 257       \n",
      "=================================================================\n",
      "Total params: 166,401\n",
      "Trainable params: 166,401\n",
      "Non-trainable params: 0\n",
      "_________________________________________________________________\n"
     ]
    }
   ],
   "source": [
    "NN_model.add(Dense(128, kernel_initializer='normal',input_dim = X_train.shape[1], activation='relu')) # The Hidden Layers : \n",
    "NN_model.add(Dense(256, kernel_initializer='normal',activation='relu')) \n",
    "NN_model.add(Dense(256, kernel_initializer='normal',activation='relu')) \n",
    "NN_model.add(Dense(256, kernel_initializer='normal',activation='relu'))\n",
    "# The Output Layer : \n",
    "NN_model.add(Dense(1, kernel_initializer='normal',activation='linear'))\n",
    "# Compile the network : \n",
    "NN_model.compile(loss='mean_absolute_error', optimizer='adam', metrics=['mean_absolute_error']) \n",
    "NN_model.summary()"
   ]
  },
  {
   "cell_type": "code",
   "execution_count": 57,
   "metadata": {},
   "outputs": [],
   "source": [
    "checkpoint_name = 'Weights12-{epoch:03d}--{val_loss:.5f}.hdf5' \n",
    "checkpoint = ModelCheckpoint(checkpoint_name, monitor='val_loss', verbose = 1, save_best_only = True, mode ='auto') \n",
    "callbacks_list = [checkpoint]"
   ]
  },
  {
   "cell_type": "code",
   "execution_count": 58,
   "metadata": {},
   "outputs": [
    {
     "name": "stdout",
     "output_type": "stream",
     "text": [
      "Train on 352043 samples, validate on 88011 samples\n",
      "WARNING:tensorflow:From C:\\Users\\acer\\Anaconda3\\lib\\site-packages\\tensorflow\\python\\ops\\math_ops.py:3066: to_int32 (from tensorflow.python.ops.math_ops) is deprecated and will be removed in a future version.\n",
      "Instructions for updating:\n",
      "Use tf.cast instead.\n",
      "Epoch 1/50\n",
      "351990/352043 [============================>.] - ETA: 0s - loss: 3560.3342 - mean_absolute_error: 3560.3083\n",
      "Epoch 00001: val_loss improved from inf to 3745.49291, saving model to Weights12-001--3745.49291.hdf5\n",
      "352043/352043 [==============================] - 161s 458us/sample - loss: 3560.3615 - mean_absolute_error: 3560.3357 - val_loss: 3745.4929 - val_mean_absolute_error: 3745.4905\n",
      "Epoch 2/50\n",
      "352035/352043 [============================>.] - ETA: 0s - loss: 3179.0711 - mean_absolute_error: 3179.0544\n",
      "Epoch 00002: val_loss improved from 3745.49291 to 3092.25770, saving model to Weights12-002--3092.25770.hdf5\n",
      "352043/352043 [==============================] - 170s 483us/sample - loss: 3179.0949 - mean_absolute_error: 3179.0781 - val_loss: 3092.2577 - val_mean_absolute_error: 3092.2698\n",
      "Epoch 3/50\n",
      "351935/352043 [============================>.] - ETA: 0s - loss: 3152.6030 - mean_absolute_error: 3152.6099\n",
      "Epoch 00003: val_loss improved from 3092.25770 to 3006.18268, saving model to Weights12-003--3006.18268.hdf5\n",
      "352043/352043 [==============================] - 160s 454us/sample - loss: 3152.5444 - mean_absolute_error: 3152.5520 - val_loss: 3006.1827 - val_mean_absolute_error: 3006.1819\n",
      "Epoch 4/50\n",
      "351955/352043 [============================>.] - ETA: 0s - loss: 3118.4628 - mean_absolute_error: 3118.4626\n",
      "Epoch 00004: val_loss did not improve from 3006.18268\n",
      "352043/352043 [==============================] - 165s 470us/sample - loss: 3118.4214 - mean_absolute_error: 3118.4211 - val_loss: 3021.4055 - val_mean_absolute_error: 3021.4087\n",
      "Epoch 5/50\n",
      "351955/352043 [============================>.] - ETA: 0s - loss: 3173.4335 - mean_absolute_error: 3173.4294\n",
      "Epoch 00005: val_loss did not improve from 3006.18268\n",
      "352043/352043 [==============================] - 157s 447us/sample - loss: 3173.5923 - mean_absolute_error: 3173.5879 - val_loss: 3023.1433 - val_mean_absolute_error: 3023.1389\n",
      "Epoch 6/50\n",
      "351910/352043 [============================>.] - ETA: 0s - loss: 3272.5829 - mean_absolute_error: 3272.5852\n",
      "Epoch 00006: val_loss did not improve from 3006.18268\n",
      "352043/352043 [==============================] - 156s 444us/sample - loss: 3272.5231 - mean_absolute_error: 3272.5254 - val_loss: 3063.3894 - val_mean_absolute_error: 3063.4026\n",
      "Epoch 7/50\n",
      "352030/352043 [============================>.] - ETA: 0s - loss: 3113.4150 - mean_absolute_error: 3113.4248\n",
      "Epoch 00007: val_loss did not improve from 3006.18268\n",
      "352043/352043 [==============================] - 179s 508us/sample - loss: 3113.3858 - mean_absolute_error: 3113.3958 - val_loss: 3035.7032 - val_mean_absolute_error: 3035.7090\n",
      "Epoch 8/50\n",
      "351970/352043 [============================>.] - ETA: 0s - loss: 3100.2827 - mean_absolute_error: 3100.2817\n",
      "Epoch 00008: val_loss did not improve from 3006.18268\n",
      "352043/352043 [==============================] - 164s 465us/sample - loss: 3100.3120 - mean_absolute_error: 3100.3103 - val_loss: 3367.7490 - val_mean_absolute_error: 3367.7529\n",
      "Epoch 9/50\n",
      "351980/352043 [============================>.] - ETA: 0s - loss: 3082.9229 - mean_absolute_error: 3082.9060\n",
      "Epoch 00009: val_loss did not improve from 3006.18268\n",
      "352043/352043 [==============================] - 169s 481us/sample - loss: 3082.9621 - mean_absolute_error: 3082.9460 - val_loss: 3192.2812 - val_mean_absolute_error: 3192.2893\n",
      "Epoch 10/50\n",
      "351980/352043 [============================>.] - ETA: 0s - loss: 3083.9930 - mean_absolute_error: 3084.0129\n",
      "Epoch 00010: val_loss did not improve from 3006.18268\n",
      "352043/352043 [==============================] - 157s 446us/sample - loss: 3083.9638 - mean_absolute_error: 3083.9839 - val_loss: 3088.7146 - val_mean_absolute_error: 3088.7207\n",
      "Epoch 11/50\n",
      "352010/352043 [============================>.] - ETA: 0s - loss: 3071.0977 - mean_absolute_error: 3071.1052\n",
      "Epoch 00011: val_loss did not improve from 3006.18268\n",
      "352043/352043 [==============================] - 191s 542us/sample - loss: 3071.1456 - mean_absolute_error: 3071.1528 - val_loss: 3266.6413 - val_mean_absolute_error: 3266.6343\n",
      "Epoch 12/50\n",
      "352020/352043 [============================>.] - ETA: 0s - loss: 3072.0738 - mean_absolute_error: 3072.0786\n",
      "Epoch 00012: val_loss improved from 3006.18268 to 2922.62918, saving model to Weights12-012--2922.62918.hdf5\n",
      "352043/352043 [==============================] - 166s 473us/sample - loss: 3071.9997 - mean_absolute_error: 3072.0046 - val_loss: 2922.6292 - val_mean_absolute_error: 2922.6240\n",
      "Epoch 13/50\n",
      "352020/352043 [============================>.] - ETA: 0s - loss: 3043.0920 - mean_absolute_error: 3043.0901\n",
      "Epoch 00013: val_loss did not improve from 2922.62918\n",
      "352043/352043 [==============================] - 156s 443us/sample - loss: 3043.0680 - mean_absolute_error: 3043.0662 - val_loss: 3145.1256 - val_mean_absolute_error: 3145.1235\n",
      "Epoch 14/50\n",
      "352035/352043 [============================>.] - ETA: 0s - loss: 3053.5483 - mean_absolute_error: 3053.5557\n",
      "Epoch 00014: val_loss did not improve from 2922.62918\n",
      "352043/352043 [==============================] - 161s 457us/sample - loss: 3053.5324 - mean_absolute_error: 3053.5398 - val_loss: 2926.0082 - val_mean_absolute_error: 2926.0085\n",
      "Epoch 15/50\n",
      "352030/352043 [============================>.] - ETA: 0s - loss: 3034.2005 - mean_absolute_error: 3034.1860\n",
      "Epoch 00015: val_loss did not improve from 2922.62918\n",
      "352043/352043 [==============================] - 171s 484us/sample - loss: 3034.1903 - mean_absolute_error: 3034.1760 - val_loss: 2934.0866 - val_mean_absolute_error: 2934.0847\n",
      "Epoch 16/50\n",
      "351925/352043 [============================>.] - ETA: 0s - loss: 3034.9775 - mean_absolute_error: 3034.9766\n",
      "Epoch 00016: val_loss did not improve from 2922.62918\n",
      "352043/352043 [==============================] - 162s 461us/sample - loss: 3034.8760 - mean_absolute_error: 3034.8752 - val_loss: 2939.5371 - val_mean_absolute_error: 2939.5305\n",
      "Epoch 17/50\n",
      "351935/352043 [============================>.] - ETA: 0s - loss: 3042.3489 - mean_absolute_error: 3042.3501\n",
      "Epoch 00017: val_loss improved from 2922.62918 to 2898.91049, saving model to Weights12-017--2898.91049.hdf5\n",
      "352043/352043 [==============================] - 154s 439us/sample - loss: 3042.4585 - mean_absolute_error: 3042.4597 - val_loss: 2898.9105 - val_mean_absolute_error: 2898.9043\n",
      "Epoch 18/50\n",
      "351930/352043 [============================>.] - ETA: 0s - loss: 3037.8788 - mean_absolute_error: 3037.8870\n",
      "Epoch 00018: val_loss did not improve from 2898.91049\n",
      "352043/352043 [==============================] - 158s 449us/sample - loss: 3038.2087 - mean_absolute_error: 3038.2170 - val_loss: 3348.8358 - val_mean_absolute_error: 3348.8367\n",
      "Epoch 19/50\n",
      "351985/352043 [============================>.] - ETA: 0s - loss: 3015.5535 - mean_absolute_error: 3015.5469\n",
      "Epoch 00019: val_loss did not improve from 2898.91049\n",
      "352043/352043 [==============================] - 158s 449us/sample - loss: 3015.4617 - mean_absolute_error: 3015.4551 - val_loss: 2991.2142 - val_mean_absolute_error: 2991.2124\n",
      "Epoch 20/50\n",
      "352035/352043 [============================>.] - ETA: 0s - loss: 2993.5053 - mean_absolute_error: 2993.4946\n",
      "Epoch 00020: val_loss did not improve from 2898.91049\n",
      "352043/352043 [==============================] - 157s 447us/sample - loss: 2993.4766 - mean_absolute_error: 2993.4658 - val_loss: 2925.6904 - val_mean_absolute_error: 2925.6838\n",
      "Epoch 21/50\n",
      "352025/352043 [============================>.] - ETA: 0s - loss: 2968.3280 - mean_absolute_error: 2968.3135\n",
      "Epoch 00021: val_loss did not improve from 2898.91049\n",
      "352043/352043 [==============================] - 157s 447us/sample - loss: 2968.3009 - mean_absolute_error: 2968.2864 - val_loss: 2926.0649 - val_mean_absolute_error: 2926.0681\n",
      "Epoch 22/50\n",
      "351935/352043 [============================>.] - ETA: 0s - loss: 2974.3345 - mean_absolute_error: 2974.3218\n",
      "Epoch 00022: val_loss improved from 2898.91049 to 2895.87433, saving model to Weights12-022--2895.87433.hdf5\n",
      "352043/352043 [==============================] - 156s 444us/sample - loss: 2974.2372 - mean_absolute_error: 2974.2244 - val_loss: 2895.8743 - val_mean_absolute_error: 2895.8770\n"
     ]
    },
    {
     "name": "stdout",
     "output_type": "stream",
     "text": [
      "Epoch 23/50\n",
      "352025/352043 [============================>.] - ETA: 0s - loss: 2960.8342 - mean_absolute_error: 2960.8340\n",
      "Epoch 00023: val_loss did not improve from 2895.87433\n",
      "352043/352043 [==============================] - 146s 416us/sample - loss: 2960.8689 - mean_absolute_error: 2960.8684 - val_loss: 2915.5040 - val_mean_absolute_error: 2915.4993\n",
      "Epoch 24/50\n",
      "352040/352043 [============================>.] - ETA: 0s - loss: 2956.3178 - mean_absolute_error: 2956.2983\n",
      "Epoch 00024: val_loss improved from 2895.87433 to 2885.67039, saving model to Weights12-024--2885.67039.hdf5\n",
      "352043/352043 [==============================] - 143s 406us/sample - loss: 2956.3002 - mean_absolute_error: 2956.2808 - val_loss: 2885.6704 - val_mean_absolute_error: 2885.6660\n",
      "Epoch 25/50\n",
      "351970/352043 [============================>.] - ETA: 0s - loss: 2963.6903 - mean_absolute_error: 2963.6895\n",
      "Epoch 00025: val_loss improved from 2885.67039 to 2877.57661, saving model to Weights12-025--2877.57661.hdf5\n",
      "352043/352043 [==============================] - 141s 401us/sample - loss: 2963.6132 - mean_absolute_error: 2963.6123 - val_loss: 2877.5766 - val_mean_absolute_error: 2877.5818\n",
      "Epoch 26/50\n",
      "351950/352043 [============================>.] - ETA: 0s - loss: 2965.2640 - mean_absolute_error: 2965.2708\n",
      "Epoch 00026: val_loss did not improve from 2877.57661\n",
      "352043/352043 [==============================] - 145s 412us/sample - loss: 2965.3126 - mean_absolute_error: 2965.3191 - val_loss: 3266.3307 - val_mean_absolute_error: 3266.3303\n",
      "Epoch 27/50\n",
      "352010/352043 [============================>.] - ETA: 0s - loss: 2961.9616 - mean_absolute_error: 2961.9565\n",
      "Epoch 00027: val_loss did not improve from 2877.57661\n",
      "352043/352043 [==============================] - 147s 417us/sample - loss: 2961.9536 - mean_absolute_error: 2961.9485 - val_loss: 2888.2131 - val_mean_absolute_error: 2888.2021\n",
      "Epoch 28/50\n",
      "351990/352043 [============================>.] - ETA: 0s - loss: 2924.3157 - mean_absolute_error: 2924.3201\n",
      "Epoch 00028: val_loss improved from 2877.57661 to 2875.94370, saving model to Weights12-028--2875.94370.hdf5\n",
      "352043/352043 [==============================] - 152s 432us/sample - loss: 2924.3176 - mean_absolute_error: 2924.3218 - val_loss: 2875.9437 - val_mean_absolute_error: 2875.9460\n",
      "Epoch 29/50\n",
      "351935/352043 [============================>.] - ETA: 0s - loss: 2896.8740 - mean_absolute_error: 2896.8772\n",
      "Epoch 00029: val_loss improved from 2875.94370 to 2871.76510, saving model to Weights12-029--2871.76510.hdf5\n",
      "352043/352043 [==============================] - 157s 446us/sample - loss: 2896.8529 - mean_absolute_error: 2896.8562 - val_loss: 2871.7651 - val_mean_absolute_error: 2871.7600\n",
      "Epoch 30/50\n",
      "351970/352043 [============================>.] - ETA: 0s - loss: 2921.3849 - mean_absolute_error: 2921.3838\n",
      "Epoch 00030: val_loss did not improve from 2871.76510\n",
      "352043/352043 [==============================] - 160s 455us/sample - loss: 2921.3058 - mean_absolute_error: 2921.3047 - val_loss: 2904.6396 - val_mean_absolute_error: 2904.6387\n",
      "Epoch 31/50\n",
      "351970/352043 [============================>.] - ETA: 0s - loss: 2841.0558 - mean_absolute_error: 2841.0720\n",
      "Epoch 00031: val_loss improved from 2871.76510 to 2799.41351, saving model to Weights12-031--2799.41351.hdf5\n",
      "352043/352043 [==============================] - 156s 443us/sample - loss: 2840.9279 - mean_absolute_error: 2840.9443 - val_loss: 2799.4135 - val_mean_absolute_error: 2799.4060\n",
      "Epoch 32/50\n",
      "351925/352043 [============================>.] - ETA: 0s - loss: 2856.0064 - mean_absolute_error: 2855.9858\n",
      "Epoch 00032: val_loss did not improve from 2799.41351\n",
      "352043/352043 [==============================] - 156s 442us/sample - loss: 2856.0885 - mean_absolute_error: 2856.0679 - val_loss: 2952.1341 - val_mean_absolute_error: 2952.1467\n",
      "Epoch 33/50\n",
      "351940/352043 [============================>.] - ETA: 0s - loss: 2841.4174 - mean_absolute_error: 2841.4280\n",
      "Epoch 00033: val_loss improved from 2799.41351 to 2489.38928, saving model to Weights12-033--2489.38928.hdf5\n",
      "352043/352043 [==============================] - 157s 447us/sample - loss: 2841.2559 - mean_absolute_error: 2841.2666 - val_loss: 2489.3893 - val_mean_absolute_error: 2489.3867\n",
      "Epoch 34/50\n",
      "351905/352043 [============================>.] - ETA: 0s - loss: 2783.2544 - mean_absolute_error: 2783.2681\n",
      "Epoch 00034: val_loss did not improve from 2489.38928\n",
      "352043/352043 [==============================] - 154s 438us/sample - loss: 2783.4105 - mean_absolute_error: 2783.4246 - val_loss: 3018.3293 - val_mean_absolute_error: 3018.3184\n",
      "Epoch 35/50\n",
      "352015/352043 [============================>.] - ETA: 0s - loss: 2809.9162 - mean_absolute_error: 2809.9131\n",
      "Epoch 00035: val_loss did not improve from 2489.38928\n",
      "352043/352043 [==============================] - 141s 402us/sample - loss: 2809.8803 - mean_absolute_error: 2809.8774 - val_loss: 2870.6068 - val_mean_absolute_error: 2870.6089\n",
      "Epoch 36/50\n",
      "351975/352043 [============================>.] - ETA: 0s - loss: 2635.8198 - mean_absolute_error: 2635.8176\n",
      "Epoch 00036: val_loss did not improve from 2489.38928\n",
      "352043/352043 [==============================] - 138s 393us/sample - loss: 2635.8542 - mean_absolute_error: 2635.8518 - val_loss: 3297.3387 - val_mean_absolute_error: 3297.3398\n",
      "Epoch 37/50\n",
      "351975/352043 [============================>.] - ETA: 0s - loss: 2689.2184 - mean_absolute_error: 2689.2175\n",
      "Epoch 00037: val_loss improved from 2489.38928 to 2360.07178, saving model to Weights12-037--2360.07178.hdf5\n",
      "352043/352043 [==============================] - 137s 390us/sample - loss: 2689.2472 - mean_absolute_error: 2689.2458 - val_loss: 2360.0718 - val_mean_absolute_error: 2360.0730\n",
      "Epoch 38/50\n",
      "351985/352043 [============================>.] - ETA: 0s - loss: 2741.7331 - mean_absolute_error: 2741.7363\n",
      "Epoch 00038: val_loss did not improve from 2360.07178\n",
      "352043/352043 [==============================] - 139s 396us/sample - loss: 2741.7370 - mean_absolute_error: 2741.7400 - val_loss: 2625.3103 - val_mean_absolute_error: 2625.3105\n",
      "Epoch 39/50\n",
      "352000/352043 [============================>.] - ETA: 0s - loss: 2548.2803 - mean_absolute_error: 2548.2708\n",
      "Epoch 00039: val_loss did not improve from 2360.07178\n",
      "352043/352043 [==============================] - 140s 397us/sample - loss: 2548.1981 - mean_absolute_error: 2548.1882 - val_loss: 2577.9241 - val_mean_absolute_error: 2577.9292\n",
      "Epoch 40/50\n",
      "352025/352043 [============================>.] - ETA: 0s - loss: 2535.3116 - mean_absolute_error: 2535.3232\n",
      "Epoch 00040: val_loss did not improve from 2360.07178\n",
      "352043/352043 [==============================] - 166s 472us/sample - loss: 2535.2813 - mean_absolute_error: 2535.2927 - val_loss: 2448.5825 - val_mean_absolute_error: 2448.5874\n",
      "Epoch 41/50\n",
      "351930/352043 [============================>.] - ETA: 0s - loss: 2701.1455 - mean_absolute_error: 2701.1448\n",
      "Epoch 00041: val_loss did not improve from 2360.07178\n",
      "352043/352043 [==============================] - 187s 532us/sample - loss: 2701.0098 - mean_absolute_error: 2701.0088 - val_loss: 2389.2659 - val_mean_absolute_error: 2389.2642\n",
      "Epoch 42/50\n",
      "352035/352043 [============================>.] - ETA: 0s - loss: 2615.6961 - mean_absolute_error: 2615.7041\n",
      "Epoch 00042: val_loss did not improve from 2360.07178\n",
      "352043/352043 [==============================] - 167s 476us/sample - loss: 2615.6914 - mean_absolute_error: 2615.6995 - val_loss: 3058.6732 - val_mean_absolute_error: 3058.6631\n",
      "Epoch 43/50\n",
      "351980/352043 [============================>.] - ETA: 0s - loss: 2757.4981 - mean_absolute_error: 2757.4973\n",
      "Epoch 00043: val_loss did not improve from 2360.07178\n",
      "352043/352043 [==============================] - 176s 501us/sample - loss: 2757.4226 - mean_absolute_error: 2757.4216 - val_loss: 2379.0525 - val_mean_absolute_error: 2379.0525\n",
      "Epoch 44/50\n",
      "352020/352043 [============================>.] - ETA: 0s - loss: 2683.6631 - mean_absolute_error: 2683.6587\n",
      "Epoch 00044: val_loss did not improve from 2360.07178\n",
      "352043/352043 [==============================] - 180s 510us/sample - loss: 2683.6529 - mean_absolute_error: 2683.6487 - val_loss: 2910.5215 - val_mean_absolute_error: 2910.5273\n",
      "Epoch 45/50\n",
      "351980/352043 [============================>.] - ETA: 0s - loss: 2720.3401 - mean_absolute_error: 2720.3594\n",
      "Epoch 00045: val_loss did not improve from 2360.07178\n",
      "352043/352043 [==============================] - 175s 498us/sample - loss: 2720.2882 - mean_absolute_error: 2720.3076 - val_loss: 2648.4978 - val_mean_absolute_error: 2648.4932\n",
      "Epoch 46/50\n",
      "351970/352043 [============================>.] - ETA: 0s - loss: 2652.5885 - mean_absolute_error: 2652.5940\n",
      "Epoch 00046: val_loss did not improve from 2360.07178\n",
      "352043/352043 [==============================] - 156s 443us/sample - loss: 2652.5637 - mean_absolute_error: 2652.5691 - val_loss: 2468.0029 - val_mean_absolute_error: 2468.0073\n",
      "Epoch 47/50\n",
      "352025/352043 [============================>.] - ETA: 0s - loss: 2700.5595 - mean_absolute_error: 2700.5715\n",
      "Epoch 00047: val_loss did not improve from 2360.07178\n",
      "352043/352043 [==============================] - 159s 451us/sample - loss: 2700.5332 - mean_absolute_error: 2700.5452 - val_loss: 2373.4604 - val_mean_absolute_error: 2373.4626\n",
      "Epoch 48/50\n",
      "351935/352043 [============================>.] - ETA: 0s - loss: 2596.7644 - mean_absolute_error: 2596.7588\n",
      "Epoch 00048: val_loss did not improve from 2360.07178\n",
      "352043/352043 [==============================] - 153s 435us/sample - loss: 2596.9542 - mean_absolute_error: 2596.9490 - val_loss: 3173.5134 - val_mean_absolute_error: 3173.5042\n",
      "Epoch 49/50\n",
      "351955/352043 [============================>.] - ETA: 0s - loss: 2701.4948 - mean_absolute_error: 2701.5078\n",
      "Epoch 00049: val_loss did not improve from 2360.07178\n",
      "352043/352043 [==============================] - 163s 462us/sample - loss: 2701.4428 - mean_absolute_error: 2701.4556 - val_loss: 2444.7753 - val_mean_absolute_error: 2444.7759\n",
      "Epoch 50/50\n",
      "351960/352043 [============================>.] - ETA: 0s - loss: 2702.2195 - mean_absolute_error: 2702.2192\n",
      "Epoch 00050: val_loss did not improve from 2360.07178\n",
      "352043/352043 [==============================] - 162s 460us/sample - loss: 2702.1860 - mean_absolute_error: 2702.1858 - val_loss: 2735.9307 - val_mean_absolute_error: 2735.9326\n"
     ]
    },
    {
     "data": {
      "text/plain": [
       "<tensorflow.python.keras.callbacks.History at 0x26d075390f0>"
      ]
     },
     "execution_count": 58,
     "metadata": {},
     "output_type": "execute_result"
    }
   ],
   "source": [
    "NN_model.fit(X_train, y_train, epochs=50, batch_size=5, validation_split = 0.2, callbacks=callbacks_list)"
   ]
  },
  {
   "cell_type": "code",
   "execution_count": 60,
   "metadata": {},
   "outputs": [],
   "source": [
    "weights_file = 'Weights12-037--2360.07178.hdf5' \n",
    "# choose the best checkpoint \n",
    "NN_model.load_weights(weights_file) \n",
    "# load it \n",
    "NN_model.compile(loss='mean_absolute_error', optimizer='adam', metrics=['mean_absolute_error'])"
   ]
  },
  {
   "cell_type": "code",
   "execution_count": 74,
   "metadata": {},
   "outputs": [],
   "source": [
    "predictions5 = NN_model.predict(X_val)"
   ]
  },
  {
   "cell_type": "code",
   "execution_count": 75,
   "metadata": {},
   "outputs": [
    {
     "name": "stdout",
     "output_type": "stream",
     "text": [
      "RMSE: 3380.154839\n",
      "Mean absolute error: 2373.744251\n"
     ]
    }
   ],
   "source": [
    "nn_pred= np.round(predictions5) \n",
    "rmse = np.sqrt(mean_squared_error(nn_pred,y_val)) \n",
    "print(\"RMSE: %f\" % (rmse)) \n",
    "print(\"Mean absolute error: %f\" %(mean_absolute_error(y_val, nn_pred)))"
   ]
  },
  {
   "cell_type": "code",
   "execution_count": 76,
   "metadata": {},
   "outputs": [],
   "source": [
    "submission1 = pd.read_csv(r'C:\\Users\\acer\\Desktop\\Bigdatasales\\sample_submission_LMg97w5.csv')"
   ]
  },
  {
   "cell_type": "code",
   "execution_count": 77,
   "metadata": {},
   "outputs": [],
   "source": [
    "submission1 = submission1.drop([\"Comb\", \"Purchase\"], axis=1)"
   ]
  },
  {
   "cell_type": "code",
   "execution_count": 78,
   "metadata": {},
   "outputs": [],
   "source": [
    "submission1['Comb'] = test1['User_ID'].astype(str) + test1['Product_ID'].astype(str)"
   ]
  },
  {
   "cell_type": "code",
   "execution_count": 79,
   "metadata": {},
   "outputs": [
    {
     "data": {
      "text/plain": [
       "(233599, 1)"
      ]
     },
     "execution_count": 79,
     "metadata": {},
     "output_type": "execute_result"
    }
   ],
   "source": [
    "submission1.shape\n"
   ]
  },
  {
   "cell_type": "code",
   "execution_count": 82,
   "metadata": {},
   "outputs": [
    {
     "data": {
      "text/plain": [
       "(110014, 1)"
      ]
     },
     "execution_count": 82,
     "metadata": {},
     "output_type": "execute_result"
    }
   ],
   "source": [
    "predictions5.shape"
   ]
  },
  {
   "cell_type": "code",
   "execution_count": 81,
   "metadata": {},
   "outputs": [
    {
     "ename": "ValueError",
     "evalue": "Length of values does not match length of index",
     "output_type": "error",
     "traceback": [
      "\u001b[1;31m---------------------------------------------------------------------------\u001b[0m",
      "\u001b[1;31mValueError\u001b[0m                                Traceback (most recent call last)",
      "\u001b[1;32m<ipython-input-81-74a764044b9a>\u001b[0m in \u001b[0;36m<module>\u001b[1;34m\u001b[0m\n\u001b[1;32m----> 1\u001b[1;33m \u001b[0msubmission1\u001b[0m\u001b[1;33m[\u001b[0m\u001b[1;34m'Purchase'\u001b[0m\u001b[1;33m]\u001b[0m \u001b[1;33m=\u001b[0m \u001b[0mpredictions5\u001b[0m\u001b[1;33m\u001b[0m\u001b[1;33m\u001b[0m\u001b[0m\n\u001b[0m\u001b[0;32m      2\u001b[0m \u001b[0msubmission1\u001b[0m\u001b[1;33m.\u001b[0m\u001b[0mto_csv\u001b[0m\u001b[1;33m(\u001b[0m\u001b[1;34mr'C:\\Users\\acer\\Desktop\\Bigdatasales\\sample_submission_NN.csv'\u001b[0m\u001b[1;33m,\u001b[0m \u001b[0mindex\u001b[0m\u001b[1;33m=\u001b[0m\u001b[1;32mFalse\u001b[0m\u001b[1;33m)\u001b[0m\u001b[1;33m\u001b[0m\u001b[1;33m\u001b[0m\u001b[0m\n",
      "\u001b[1;32m~\\Anaconda3\\lib\\site-packages\\pandas\\core\\frame.py\u001b[0m in \u001b[0;36m__setitem__\u001b[1;34m(self, key, value)\u001b[0m\n\u001b[0;32m   3368\u001b[0m         \u001b[1;32melse\u001b[0m\u001b[1;33m:\u001b[0m\u001b[1;33m\u001b[0m\u001b[1;33m\u001b[0m\u001b[0m\n\u001b[0;32m   3369\u001b[0m             \u001b[1;31m# set column\u001b[0m\u001b[1;33m\u001b[0m\u001b[1;33m\u001b[0m\u001b[1;33m\u001b[0m\u001b[0m\n\u001b[1;32m-> 3370\u001b[1;33m             \u001b[0mself\u001b[0m\u001b[1;33m.\u001b[0m\u001b[0m_set_item\u001b[0m\u001b[1;33m(\u001b[0m\u001b[0mkey\u001b[0m\u001b[1;33m,\u001b[0m \u001b[0mvalue\u001b[0m\u001b[1;33m)\u001b[0m\u001b[1;33m\u001b[0m\u001b[1;33m\u001b[0m\u001b[0m\n\u001b[0m\u001b[0;32m   3371\u001b[0m \u001b[1;33m\u001b[0m\u001b[0m\n\u001b[0;32m   3372\u001b[0m     \u001b[1;32mdef\u001b[0m \u001b[0m_setitem_slice\u001b[0m\u001b[1;33m(\u001b[0m\u001b[0mself\u001b[0m\u001b[1;33m,\u001b[0m \u001b[0mkey\u001b[0m\u001b[1;33m,\u001b[0m \u001b[0mvalue\u001b[0m\u001b[1;33m)\u001b[0m\u001b[1;33m:\u001b[0m\u001b[1;33m\u001b[0m\u001b[1;33m\u001b[0m\u001b[0m\n",
      "\u001b[1;32m~\\Anaconda3\\lib\\site-packages\\pandas\\core\\frame.py\u001b[0m in \u001b[0;36m_set_item\u001b[1;34m(self, key, value)\u001b[0m\n\u001b[0;32m   3443\u001b[0m \u001b[1;33m\u001b[0m\u001b[0m\n\u001b[0;32m   3444\u001b[0m         \u001b[0mself\u001b[0m\u001b[1;33m.\u001b[0m\u001b[0m_ensure_valid_index\u001b[0m\u001b[1;33m(\u001b[0m\u001b[0mvalue\u001b[0m\u001b[1;33m)\u001b[0m\u001b[1;33m\u001b[0m\u001b[1;33m\u001b[0m\u001b[0m\n\u001b[1;32m-> 3445\u001b[1;33m         \u001b[0mvalue\u001b[0m \u001b[1;33m=\u001b[0m \u001b[0mself\u001b[0m\u001b[1;33m.\u001b[0m\u001b[0m_sanitize_column\u001b[0m\u001b[1;33m(\u001b[0m\u001b[0mkey\u001b[0m\u001b[1;33m,\u001b[0m \u001b[0mvalue\u001b[0m\u001b[1;33m)\u001b[0m\u001b[1;33m\u001b[0m\u001b[1;33m\u001b[0m\u001b[0m\n\u001b[0m\u001b[0;32m   3446\u001b[0m         \u001b[0mNDFrame\u001b[0m\u001b[1;33m.\u001b[0m\u001b[0m_set_item\u001b[0m\u001b[1;33m(\u001b[0m\u001b[0mself\u001b[0m\u001b[1;33m,\u001b[0m \u001b[0mkey\u001b[0m\u001b[1;33m,\u001b[0m \u001b[0mvalue\u001b[0m\u001b[1;33m)\u001b[0m\u001b[1;33m\u001b[0m\u001b[1;33m\u001b[0m\u001b[0m\n\u001b[0;32m   3447\u001b[0m \u001b[1;33m\u001b[0m\u001b[0m\n",
      "\u001b[1;32m~\\Anaconda3\\lib\\site-packages\\pandas\\core\\frame.py\u001b[0m in \u001b[0;36m_sanitize_column\u001b[1;34m(self, key, value, broadcast)\u001b[0m\n\u001b[0;32m   3628\u001b[0m \u001b[1;33m\u001b[0m\u001b[0m\n\u001b[0;32m   3629\u001b[0m             \u001b[1;31m# turn me into an ndarray\u001b[0m\u001b[1;33m\u001b[0m\u001b[1;33m\u001b[0m\u001b[1;33m\u001b[0m\u001b[0m\n\u001b[1;32m-> 3630\u001b[1;33m             \u001b[0mvalue\u001b[0m \u001b[1;33m=\u001b[0m \u001b[0msanitize_index\u001b[0m\u001b[1;33m(\u001b[0m\u001b[0mvalue\u001b[0m\u001b[1;33m,\u001b[0m \u001b[0mself\u001b[0m\u001b[1;33m.\u001b[0m\u001b[0mindex\u001b[0m\u001b[1;33m,\u001b[0m \u001b[0mcopy\u001b[0m\u001b[1;33m=\u001b[0m\u001b[1;32mFalse\u001b[0m\u001b[1;33m)\u001b[0m\u001b[1;33m\u001b[0m\u001b[1;33m\u001b[0m\u001b[0m\n\u001b[0m\u001b[0;32m   3631\u001b[0m             \u001b[1;32mif\u001b[0m \u001b[1;32mnot\u001b[0m \u001b[0misinstance\u001b[0m\u001b[1;33m(\u001b[0m\u001b[0mvalue\u001b[0m\u001b[1;33m,\u001b[0m \u001b[1;33m(\u001b[0m\u001b[0mnp\u001b[0m\u001b[1;33m.\u001b[0m\u001b[0mndarray\u001b[0m\u001b[1;33m,\u001b[0m \u001b[0mIndex\u001b[0m\u001b[1;33m)\u001b[0m\u001b[1;33m)\u001b[0m\u001b[1;33m:\u001b[0m\u001b[1;33m\u001b[0m\u001b[1;33m\u001b[0m\u001b[0m\n\u001b[0;32m   3632\u001b[0m                 \u001b[1;32mif\u001b[0m \u001b[0misinstance\u001b[0m\u001b[1;33m(\u001b[0m\u001b[0mvalue\u001b[0m\u001b[1;33m,\u001b[0m \u001b[0mlist\u001b[0m\u001b[1;33m)\u001b[0m \u001b[1;32mand\u001b[0m \u001b[0mlen\u001b[0m\u001b[1;33m(\u001b[0m\u001b[0mvalue\u001b[0m\u001b[1;33m)\u001b[0m \u001b[1;33m>\u001b[0m \u001b[1;36m0\u001b[0m\u001b[1;33m:\u001b[0m\u001b[1;33m\u001b[0m\u001b[1;33m\u001b[0m\u001b[0m\n",
      "\u001b[1;32m~\\Anaconda3\\lib\\site-packages\\pandas\\core\\internals\\construction.py\u001b[0m in \u001b[0;36msanitize_index\u001b[1;34m(data, index, copy)\u001b[0m\n\u001b[0;32m    517\u001b[0m \u001b[1;33m\u001b[0m\u001b[0m\n\u001b[0;32m    518\u001b[0m     \u001b[1;32mif\u001b[0m \u001b[0mlen\u001b[0m\u001b[1;33m(\u001b[0m\u001b[0mdata\u001b[0m\u001b[1;33m)\u001b[0m \u001b[1;33m!=\u001b[0m \u001b[0mlen\u001b[0m\u001b[1;33m(\u001b[0m\u001b[0mindex\u001b[0m\u001b[1;33m)\u001b[0m\u001b[1;33m:\u001b[0m\u001b[1;33m\u001b[0m\u001b[1;33m\u001b[0m\u001b[0m\n\u001b[1;32m--> 519\u001b[1;33m         \u001b[1;32mraise\u001b[0m \u001b[0mValueError\u001b[0m\u001b[1;33m(\u001b[0m\u001b[1;34m'Length of values does not match length of index'\u001b[0m\u001b[1;33m)\u001b[0m\u001b[1;33m\u001b[0m\u001b[1;33m\u001b[0m\u001b[0m\n\u001b[0m\u001b[0;32m    520\u001b[0m \u001b[1;33m\u001b[0m\u001b[0m\n\u001b[0;32m    521\u001b[0m     \u001b[1;32mif\u001b[0m \u001b[0misinstance\u001b[0m\u001b[1;33m(\u001b[0m\u001b[0mdata\u001b[0m\u001b[1;33m,\u001b[0m \u001b[0mABCIndexClass\u001b[0m\u001b[1;33m)\u001b[0m \u001b[1;32mand\u001b[0m \u001b[1;32mnot\u001b[0m \u001b[0mcopy\u001b[0m\u001b[1;33m:\u001b[0m\u001b[1;33m\u001b[0m\u001b[1;33m\u001b[0m\u001b[0m\n",
      "\u001b[1;31mValueError\u001b[0m: Length of values does not match length of index"
     ]
    }
   ],
   "source": [
    "submission1['Purchase'] = predictions5\n",
    "submission1.to_csv(r'C:\\Users\\acer\\Desktop\\Bigdatasales\\sample_submission_NN.csv', index=False)"
   ]
  },
  {
   "cell_type": "code",
   "execution_count": null,
   "metadata": {},
   "outputs": [],
   "source": [
    "submission"
   ]
  }
 ],
 "metadata": {
  "kernelspec": {
   "display_name": "Python 3",
   "language": "python",
   "name": "python3"
  },
  "language_info": {
   "codemirror_mode": {
    "name": "ipython",
    "version": 3
   },
   "file_extension": ".py",
   "mimetype": "text/x-python",
   "name": "python",
   "nbconvert_exporter": "python",
   "pygments_lexer": "ipython3",
   "version": "3.7.3"
  }
 },
 "nbformat": 4,
 "nbformat_minor": 2
}
